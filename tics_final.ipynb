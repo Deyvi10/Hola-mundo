{
  "nbformat": 4,
  "nbformat_minor": 0,
  "metadata": {
    "colab": {
      "provenance": [],
      "authorship_tag": "ABX9TyMrdhN34TCkSRHyFpDD/zkx",
      "include_colab_link": true
    },
    "kernelspec": {
      "name": "python3",
      "display_name": "Python 3"
    },
    "language_info": {
      "name": "python"
    }
  },
  "cells": [
    {
      "cell_type": "markdown",
      "metadata": {
        "id": "view-in-github",
        "colab_type": "text"
      },
      "source": [
        "<a href=\"https://colab.research.google.com/github/Deyvi10/Hola-mundo/blob/fernando_pichucho/tics_final.ipynb\" target=\"_parent\"><img src=\"https://colab.research.google.com/assets/colab-badge.svg\" alt=\"Open In Colab\"/></a>"
      ]
    },
    {
      "cell_type": "markdown",
      "source": [
        "Hola mundo en python\n",
        " el codigo fue obtenido mediante la herramienta de Ia https://chat.deepseek.com/\n",
        "\n",
        "\n",
        " Python es un lenguaje interpretado, multipropósito y de alto nivel, destacado por su sintaxis clara y versatilidad. Es ideal para principiantes y expertos, usado en desarrollo web (Django, Flask), ciencia de datos (Pandas, TensorFlow), IA y automatización. Su amplia biblioteca estándar y comunidad sólida lo hacen poderoso, aunque su rendimiento es menor que lenguajes compilados como C++. No es óptimo para desarrollo móvil nativo, pero su legibilidad y aplicaciones en IA lo mantienen como uno de los lenguajes más populares y demandados. fuente: https://chat.deepseek.com/"
      ],
      "metadata": {
        "id": "Lrl9Gn79o7VT"
      }
    },
    {
      "cell_type": "code",
      "execution_count": 1,
      "metadata": {
        "colab": {
          "base_uri": "https://localhost:8080/"
        },
        "id": "zu5kW1X9oE9h",
        "outputId": "257abde5-317f-45da-fc15-7688cb097695"
      },
      "outputs": [
        {
          "output_type": "stream",
          "name": "stdout",
          "text": [
            "Hola mundo\n"
          ]
        }
      ],
      "source": [
        "print(\"Hola mundo\")"
      ]
    },
    {
      "cell_type": "markdown",
      "source": [
        "Hola mundo en javaScript el codigo fue obtenido mediante la herramienta de Ia https://chat.deepseek.com/\n",
        "\n",
        "JavaScript es un lenguaje interpretado de alto nivel, principalmente usado para desarrollo web frontend (interactividad en navegadores). Con la llegada de Node.js, también se extendió al backend. Es multiparadigma (orientado a objetos, funcional) y de tipado débil/dinámico. Su ecosistema incluye frameworks como React, Angular y Vue.js. Es esencial en aplicaciones web modernas, aunque su asincronía (promesas, async/await) puede ser compleja. Su compatibilidad universal en navegadores y su alta demanda lo convierten en uno de los lenguajes más utilizados mundialmente.\n",
        "fuente: https://chat.deepseek.com/"
      ],
      "metadata": {
        "id": "myItu8Toqjvf"
      }
    },
    {
      "cell_type": "code",
      "source": [
        "console.log(\"Hola mundo\");"
      ],
      "metadata": {
        "id": "0nSxoDtWoz1a"
      },
      "execution_count": null,
      "outputs": []
    },
    {
      "cell_type": "markdown",
      "source": [
        "Hola mundo en java el codigo fue obtenido mediante la herramienta de Ia https://chat.deepseek.com/\n",
        "\n",
        "Java es un lenguaje de programación compilado y orientado a objetos, diseñado para ser portable mediante la JVM (Java Virtual Machine). Su lema \"Write Once, Run Anywhere\" lo hace ideal para aplicaciones multiplataforma, desde servidores empresariales hasta apps Android (aunque Kotlin ahora es preferido para móvil). Es robusto, escalable y fuertemente tipado, con gestión automática de memoria (recolección de basura). Aunque su sintaxis es más verbosa que lenguajes modernos, su rendimiento y ecosistema (Spring, Hibernate, Maven) lo mantienen como estándar en banca, telecomunicaciones y sistemas críticos.\n",
        "fuente: https://chat.deepseek.com/\n"
      ],
      "metadata": {
        "id": "Ji1ZaFI0qoV8"
      }
    },
    {
      "cell_type": "code",
      "source": [
        "public class HolaMundo {\n",
        "    public static void main(String[] args) {\n",
        "        System.out.println(\"Hola mundo\");\n",
        "    }\n",
        "}"
      ],
      "metadata": {
        "id": "Dz-7Q7KDqrrx"
      },
      "execution_count": null,
      "outputs": []
    },
    {
      "cell_type": "markdown",
      "source": [
        "Hola mundo en C el codigo fue obtenido mediante la herramienta de Ia https://chat.deepseek.com/\n",
        "\n",
        "C es un lenguaje de programación compilado y estructurado, creado en los años 70, que sentó las bases para lenguajes modernos como C++, Java y Python. Destaca por su alto rendimiento y control de bajo nivel, siendo ideal para sistemas operativos (Linux, Windows), embedded systems (microcontroladores) y desarrollo de software de sistema. Aunque su manejo manual de memoria y punteros lo hacen complejo, su eficiencia lo mantiene relevante en aplicaciones donde el rendimiento es crítico. Es el lenguaje preferido para programación de kernels, drivers y herramientas de desarrollo.\n",
        "fuente: https://chat.deepseek.com/\n"
      ],
      "metadata": {
        "id": "X3JWUVS7qsR2"
      }
    },
    {
      "cell_type": "code",
      "source": [
        "#include <stdio.h>\n",
        "\n",
        "int main() {\n",
        "    printf(\"Hola mundo\\n\");\n",
        "    return 0;\n",
        "}"
      ],
      "metadata": {
        "id": "ulttX8iHqwHU"
      },
      "execution_count": null,
      "outputs": []
    },
    {
      "cell_type": "markdown",
      "source": [
        "Hola mundo en Rust el codigo fue obtenido mediante la herramienta de Ia https://chat.deepseek.com/\n",
        "\n",
        "Rust es un lenguaje de programación compilado y multiparadigma, diseñado por Mozilla para ser seguro, concurrente y eficiente. Combina el rendimiento de C/C++ con características modernas que previenen errores comunes (como buffer overflows o data races). Su sistema de ownership gestiona la memoria sin recolector de basura, ofreciendo seguridad en tiempo de compilación. Ideal para sistemas críticos, desarrollo de kernels, web assembly y herramientas de alto rendimiento. Aunque tiene una curva de aprendizaje pronunciada, su creciente adopción (ej. en Linux y Firefox) lo posiciona como el futuro de la programación de sistemas.\n",
        "fuente: https://chat.deepseek.com/\n"
      ],
      "metadata": {
        "id": "nPK5JL3HqxmO"
      }
    },
    {
      "cell_type": "code",
      "source": [
        "fn main() {\n",
        "    println!(\"Hola mundo\");\n",
        "}"
      ],
      "metadata": {
        "id": "dzk3NDUIqzFW"
      },
      "execution_count": null,
      "outputs": []
    },
    {
      "cell_type": "code",
      "source": [],
      "metadata": {
        "id": "EIQYEPzKwBpd"
      },
      "execution_count": null,
      "outputs": []
    },
    {
      "cell_type": "markdown",
      "source": [
        "Hola mundo en C++ el codigo fue obtenido mediante la herramienta de Ia https://chat.deepseek.com/\n",
        "\n",
        "C++ es un lenguaje de programación compilado, multiparadigma (orientado a objetos, procedural y genérico) y de alto rendimiento, creado como una extensión de C. Es ampliamente utilizado en aplicaciones donde el control de recursos y la eficiencia son críticos, como videojuegos (Unreal Engine), sistemas operativos, software embebido y aplicaciones de alto rendimiento (ej. trading algorítmico). Soporta abstracciones complejas mediante templates y RAII, pero su manejo manual de memoria y sintaxis compleja pueden ser desafiantes. Aunque más difícil que Python o Java, su potencia lo mantiene relevante en la industria.\n",
        "fuente: https://chat.deepseek.com/"
      ],
      "metadata": {
        "id": "3phja5_DsDhI"
      }
    },
    {
      "cell_type": "code",
      "source": [
        "#include <iostream>\n",
        "\n",
        "int main() {\n",
        "    std::cout << \"Hola mundo\" << std::endl;\n",
        "    return 0;\n",
        "}"
      ],
      "metadata": {
        "id": "VRFa_oCcsJ0_"
      },
      "execution_count": null,
      "outputs": []
    },
    {
      "cell_type": "markdown",
      "source": [
        "Hola mundo en GO (goland) el codigo fue obtenido mediante la herramienta de Ia https://chat.deepseek.com/\n",
        "\n",
        "GO (Golang) es un lenguaje compilado y concurrente, creado por Google en 2009 para ser simple, eficiente y escalable. Combina la velocidad de lenguajes como C++ con una sintaxis minimalista (similar a Python), ideal para servicios en la nube, microservicios y aplicaciones distribuidas. Su modelo de goroutines simplifica la programación paralela, y su recolector de basura gestiona la memoria automáticamente. Aunque carece de genéricos (hasta Go 1.18) y abstracciones complejas, su enfoque pragmático lo ha hecho popular en DevOps (Docker, Kubernetes) y backend de alto tráfico.\n",
        "fuente: https://chat.deepseek.com/"
      ],
      "metadata": {
        "id": "W0gS4nBqsKWV"
      }
    },
    {
      "cell_type": "code",
      "source": [
        "package main\n",
        "\n",
        "import \"fmt\"\n",
        "\n",
        "func main() {\n",
        "    fmt.Println(\"Hola mundo\")\n",
        "}"
      ],
      "metadata": {
        "id": "5fIqdrXKsLOM"
      },
      "execution_count": null,
      "outputs": []
    },
    {
      "cell_type": "markdown",
      "source": [
        "Hola mundo en Ruby el codigo fue obtenido mediante la herramienta de Ia https://chat.deepseek.com/\n",
        "\n",
        "Ruby es un lenguaje interpretado y orientado a objetos, diseñado para ser productivo y divertido con una sintaxis elegante y expresiva. Es conocido por su framework Ruby on Rails, que revolucionó el desarrollo web con convención sobre configuración. Ideal para startups y prototipos rápidos, aunque también se usa en scripting y automatización. Su enfoque en \"principio de least surprise\" lo hace amigable, pero su rendimiento es inferior a lenguajes compilados.\n",
        "fuente: https://chat.deepseek.com/"
      ],
      "metadata": {
        "id": "CLHFyM4jsLXW"
      }
    },
    {
      "cell_type": "code",
      "source": [
        "puts \"Hola mundo\""
      ],
      "metadata": {
        "id": "O3dfhIp-sMbg"
      },
      "execution_count": null,
      "outputs": []
    }
  ]
}